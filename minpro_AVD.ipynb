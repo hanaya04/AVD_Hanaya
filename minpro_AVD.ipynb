{
  "nbformat": 4,
  "nbformat_minor": 0,
  "metadata": {
    "colab": {
      "provenance": []
    },
    "kernelspec": {
      "name": "python3",
      "display_name": "Python 3"
    },
    "language_info": {
      "name": "python"
    }
  },
  "cells": [
    {
      "cell_type": "markdown",
      "source": [
        "## **BUSINESS UNDERSTANDING**"
      ],
      "metadata": {
        "id": "gvMV_SJsVMF-"
      }
    },
    {
      "cell_type": "markdown",
      "source": [
        "### **Business Objective**"
      ],
      "metadata": {
        "id": "BmUp1eQPVjPo"
      }
    },
    {
      "cell_type": "markdown",
      "source": [
        "Tujuan utama proyek ini adalah untuk menganalisis pola tontonan pengguna di Netflix guna mendukung strategi pengembangan dan distribusi konten. Dengan mengevaluasi jenis konten, tahun rilis, negara, genre, dan rating, proyek ini akan mengidentifikasi tren tontonan yang dapat meningkatkan pengalaman pengguna. Selain itu, hasil analisis dapat dimanfaatkan untuk menyusun rekomendasi yang lebih akurat, mengoptimalkan strategi pemasaran, serta mendukung pengambilan keputusan dalam pemilihan dan produksi konten yang lebih sesuai dengan selera penonton."
      ],
      "metadata": {
        "id": "TKa-5aEAWAfN"
      }
    },
    {
      "cell_type": "markdown",
      "source": [
        "### **Assess Situation**"
      ],
      "metadata": {
        "id": "Y8EwVPMnWGp0"
      }
    },
    {
      "cell_type": "markdown",
      "source": [
        "Situasi bisnis yang mendasari analisis ini adalah industri streaming yang semakin kompetitif. Perubahan tren tontonan, preferensi genre, dan faktor lain menuntut Netflix untuk memahami perilaku pelanggan secara mendalam. Analisis data seperti judul, jenis konten, tahun rilis, negara, genre, dan rating diperlukan untuk mengidentifikasi pola tontonan dan mengembangkan strategi konten yang lebih tepat sasaran agar tetap unggul dalam persaingan.\n",
        "\n"
      ],
      "metadata": {
        "id": "1uwZG1neWSn9"
      }
    },
    {
      "cell_type": "markdown",
      "source": [
        "### **Data Mining Goals**"
      ],
      "metadata": {
        "id": "oNLTaKZaWTov"
      }
    },
    {
      "cell_type": "markdown",
      "source": [
        "Mengidentifikasi pola tontonan pelanggan untuk memahami tren dan selera mereka dalam menonton film dan serial. Analisis ini mengeksplorasi hubungan antara jenis konten, tahun rilis, negara, genre, dan rating untuk mengetahui faktor yang dapat memengaruhi popularitas tayangan. Hasil dari analisis ini dapat membantu dalam menyusun strategi rekomendasi konten yang lebih relevan agar lebih sesuai dengan minat penonton."
      ],
      "metadata": {
        "id": "GKF1p7wzWgU3"
      }
    },
    {
      "cell_type": "markdown",
      "source": [
        "### **Project Plan**"
      ],
      "metadata": {
        "id": "J1Tw5FToWhPw"
      }
    },
    {
      "cell_type": "markdown",
      "source": [
        "Proyek ini akan dimulai dengan memeriksa dan merapikan data agar siap dianalisis. Selanjutnya, pola tontonan akan dipelajari berdasarkan jenis konten, tahun rilis, negara, genre, dan rating. Setelah itu, pelanggan akan dikelompokkan sesuai preferensi tontonan mereka agar rekomendasi lebih akurat. Analisis juga akan dilakukan untuk mengetahui faktor-faktor yang memengaruhi popularitas suatu tayangan. Terakhir, semua hasil dievaluasi dan digunakan untuk menyusun strategi konten dan rekomendasi yang lebih optimal bagi pengguna."
      ],
      "metadata": {
        "id": "mxB30oGfd1I6"
      }
    }
  ]
}